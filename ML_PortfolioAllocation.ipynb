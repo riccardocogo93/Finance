{
 "cells": [
  {
   "cell_type": "markdown",
   "metadata": {},
   "source": [
    "# PORTFOLIO ALLOCATION MODELS: M-L APPROACH"
   ]
  },
  {
   "cell_type": "markdown",
   "metadata": {},
   "source": [
    "Consider the following portfolio:  \n",
    "- $N$: number of holdings\n",
    "- $\\mu$: expected value of the return in excess of the risk-free value\n",
    "- $V$: expected covariance of the return in excess of the risk-free value\n",
    "- $a$: constraints of the portfolio\n",
    "\n",
    "The solution of Markowitz's allocation problem is\n",
    "$$\\omega^{*}=\\frac{V^{-1}a}{a'V^{-1}a}$$\n",
    "and has the following properties:  \n",
    "(1) If $a=1_{N}$, the solution is the minimum variance portfolio ($1_{N}$ is a vector of ones of sizes $N$)   \n",
    "(2) If $a=\\mu$, the solution maximizes the portfolio's Sharpe ratio $\\frac{\\omega'\\mu}{\\sqrt{\\omega'V\\omega}}$"
   ]
  },
  {
   "cell_type": "markdown",
   "metadata": {},
   "source": [
    "Now consider two securities whose returns are correlated by a correlation parameter $\\rho$; so the correlation matrix between these two products is  \n",
    "$$C=\\begin{bmatrix}1 & \\rho\\\\\\rho & 1\\end{bmatrix}$$\n",
    "\n",
    "The matrix $C$ is diagonalized by\n",
    "$$CW=W\\Lambda$$\n",
    "\n",
    "where $\\Lambda=\\begin{bmatrix}1+\\rho & 0\\\\0 & 1-\\rho\\end{bmatrix}$ and $W=\\begin{bmatrix}1/\\sqrt{2} & 1/\\sqrt{2}\\\\1/\\sqrt{2} & -1/\\sqrt{2}\\end{bmatrix}$.  \n",
    "So the eigenvalues of $C$ are $\\Lambda_{1,1}=1+\\rho$ and $\\Lambda_{2,2}=1-\\rho$, so:  \n",
    "(1) The trace of $C$ is\n",
    "$$tr(C)=\\Lambda_{1,1}+\\Lambda_{2,2}=2$$\n",
    "(2) The determinant of $C$ is\n",
    "$$|C|=\\Lambda_{1,1}\\Lambda_{2,2}=1-\\rho^2$$\n",
    "\n",
    "Since the trace of $C$ is constant, we can say that the correlation $\\rho$ determines **how large one eigenvalue is relative to the other**.  \n",
    "Also we can say that the determinant has its maximum at $\\Lambda_{1,1}=\\Lambda_{2,2}=1$, which corresponds to $\\rho=0$, i.e. **the uncorrelated case**.  \n",
    "Moreover, the determinant has its minimum at $\\Lambda_{1,1}=0$ or $\\Lambda_{2,2}=0$, which corresponds to $|\\rho|=1$, i.e. **the perfectly correlated case**.  \n",
    "Since the inverse of $C$ is\n",
    "$$C^{-1}=W\\Lambda^{-1}W'=\\frac{1}{|C|}=\\begin{bmatrix}1 & -\\rho\\\\-\\rho & 1\\end{bmatrix}$$\n",
    "\n",
    "we can say that the more $\\rho$ deviates from zero, the bigger one eigenvalue becomes relative to the other, causing $|C|$ to approach zero, which makes the values of $C^{1}$ explode.  \n",
    "More generally, the instability caused by covariance structure can be measured in terms of the magnitude between the two extreme eigenvalues.  \n",
    "The **condition number of a covariance or correlation (or normal, thus diagonalizable) matrix** is defined as *the absolute value of the ratio between its maximal and minimal (by moduli) eigenvalues*"
   ]
  },
  {
   "cell_type": "markdown",
   "metadata": {},
   "source": [
    "Now, the following observations holds:  \n",
    "(1) The matrix $C$ is just a standardized version of $V$  \n",
    "(2) Therefore, the conclusions obtained for $C^{-1}$ also apply to $V^{-1}$  \n",
    "(3) $V^{-1}$ is used to compute $\\omega^{*}$  \n",
    "So when the securities in a portfolio are highly correlated ($1<\\rho\\ll 0$ or $0\\ll\\rho<1$), $C$ has a high condition number and the values of $V^{-1}$ explode."
   ]
  },
  {
   "cell_type": "markdown",
   "metadata": {},
   "source": [
    "**IDEA**: deal with the concentration and instability of the mean-variance optimal solutions to Markowitz's *Critical Line Algorithm*  \n",
    "Reference: *Optimal versus Naive Diversification: How Inefficient Is the 1/N Portfolio Strategy?* (De Miguel, Garlappi, Uppal), 2009  \n",
    "The main solutions to this problem are presented in the following works:\n",
    "- Regularization of solutions (*Global Portfolio Optimization*, Black and Litterman, 1992)\n",
    "- Adding constraints (*Portfolio Constraints and the Fundamental Law of Active Management*, Clarke, De Silva and Thorley, 2002)\n",
    "- Improving numerical stability of covariance matrix's inverse (*A Well-Conditioned Estimator for Large-Dimensional Covariance Matrices*, Ledoit and Wolf, 2004)"
   ]
  },
  {
   "cell_type": "markdown",
   "metadata": {},
   "source": [
    "#### NOISE-INDUCED INSTABILITY\n",
    "With reference to notebook *DenoisingCovMatrix*, the instability of a (empirical) covariance matrix associated with noise is **regulated by the number $q=T/N$**, where $TxN$ is the shape of the underlying multivariate random process.  \n",
    "In fact, the number $1/q$ is directly proportional to the lower bound of the Marcenko–Pastur distribution $\\lambda_{-}$ (i.e., it decreases as $N/T$ grows), while it's inversely proportional to the upper bound $\\lambda_{+}$ (i.e., it increases as $N/T$ grows).\n",
    "\n",
    "#### SIGNAL-INDUCED INSTABILITY\n",
    "What about the covariance instability caused by the structure of the data (signal)?  \n",
    "Signal-induced instability is **structural, and can't be reduced by sampling more observations**.  \n",
    "When $V$ is the identity matrix, the eigenvalue function is a horizontal line, and *the condition number is 1*.  \n",
    "Otherwise, *the condition number is impacted by irregular correlation structures*: for example, when a subset of securities\n",
    "has greater correlation among themselves than to the rest of the portfolio, that subset can be seen as a *cluster within the correlation matrix*.  \n",
    "When $K$ securities form a cluster, a common associated eigenvalue explains a greater amount of variance. But $tr(V)=N$, so an eigenvalue can only increase at the expense of the other $K-1$ eigenvalues in that cluster, resulting in a condition number greater than 1.  \n",
    "Ultimately: **the greater the intracluster correlation, the higher the condition number**.  \n",
    "\n",
    "**N.B.** Signal-induced instability is distinct and unrelated to $N/T\\rightarrow 1$"
   ]
  },
  {
   "cell_type": "code",
   "execution_count": 1,
   "metadata": {},
   "outputs": [],
   "source": [
    "import numpy as np\n",
    "import pandas as pd\n",
    "import matplotlib.pyplot as plt\n",
    "import seaborn as sns\n",
    "from scipy.linalg import block_diag\n",
    "from utils import formBlockMatrix"
   ]
  },
  {
   "cell_type": "markdown",
   "metadata": {},
   "source": [
    "### EXPERIMENT\n",
    "All used functions are written in the script *utils.py*"
   ]
  },
  {
   "cell_type": "markdown",
   "metadata": {},
   "source": [
    "The condition number rises if  \n",
    "(i) I make one block grater  \n",
    "(ii) I increase the interblock correlation  \n",
    "In fact in this situation little eigenvectors explain a lot of variance (the ones of the dominant block)"
   ]
  },
  {
   "cell_type": "code",
   "execution_count": 2,
   "metadata": {},
   "outputs": [
    {
     "data": {
      "image/png": "[encoded data removed]",
      "text/plain": [
       "<Figure size 864x648 with 2 Axes>"
      ]
     },
     "metadata": {
      "needs_background": "light"
     },
     "output_type": "display_data"
    }
   ],
   "source": [
    "lst_corr = formBlockMatrix(int_nBlocks=2,\n",
    "                           int_bSize=2,\n",
    "                           flt_bCorr=0.5)\n",
    "\n",
    "lst_eVals, lst_eVecs = np.linalg.eigh(lst_corr)\n",
    "\n",
    "f = plt.figure(figsize=(12,9))\n",
    "ax = sns.heatmap(data=lst_corr)\n",
    "plt.title(\"Block-Correlation matrix with condition number = \"+str(int(max(lst_eVals)/min(lst_eVals))))\n",
    "plt.show()"
   ]
  },
  {
   "cell_type": "markdown",
   "metadata": {},
   "source": [
    "Now I create a new correlation matrix by reducing the intrablock correlation in only one of the two blocks.  \n",
    "The condition number **is not reduced** by this reduction of correlation, because of the impact of the dominant block on the ENTIRE correlation matrix."
   ]
  },
  {
   "cell_type": "code",
   "execution_count": 3,
   "metadata": {},
   "outputs": [
    {
     "data": {
      "image/png": "[encoded data removed]",
      "text/plain": [
       "<Figure size 864x648 with 2 Axes>"
      ]
     },
     "metadata": {
      "needs_background": "light"
     },
     "output_type": "display_data"
    }
   ],
   "source": [
    "lst_corr = block_diag(formBlockMatrix(int_nBlocks=1,\n",
    "                                      int_bSize=2,\n",
    "                                      flt_bCorr=0.5))\n",
    "\n",
    "# Reduce the interblock correlation in just THIS block\n",
    "lst_corr_red = formBlockMatrix(int_nBlocks=1,\n",
    "                               int_bSize=2,\n",
    "                               flt_bCorr=0.0)\n",
    "                            \n",
    "lst_corr = block_diag(lst_corr,\n",
    "                      lst_corr_red)\n",
    "\n",
    "lst_eVals, lst_matr_eVecs = np.linalg.eigh(lst_corr)\n",
    "\n",
    "f = plt.figure(figsize=(12,9))\n",
    "ax = sns.heatmap(data=lst_corr)\n",
    "plt.title(\"Block-Correlation matrix with condition number = \"+str(int(max(lst_eVals)/min(lst_eVals))))\n",
    "plt.show()"
   ]
  },
  {
   "cell_type": "markdown",
   "metadata": {},
   "source": [
    "What does it mean?  \n",
    "If a high condition number is caused by only one cluster, it can impact the entire correlation matrix.  \n",
    "So the instability of Markowitz’s solution can be traced back to a few dominant clusters within the correlation matrix.  \n",
    "So that instability can be controlled by **optimizing the dominant clusters separately**, hence preventing that the instability\n",
    "spreads throughout the entire portfolio."
   ]
  },
  {
   "cell_type": "markdown",
   "metadata": {},
   "source": [
    "## Nested Clustered Optimization (NCO) Algorithm"
   ]
  },
  {
   "cell_type": "markdown",
   "metadata": {},
   "source": [
    "NCO Algorithm works in 4 steps.\n",
    "- FIRST STEP: cluster the de-noised correlation matrix using K-MEANS BASE algorithm, described below\n",
    "- SECOND STEP: compute optimal intracluster allocations of de-noised covariance matrix \"Markowitz style\"\n",
    "- THIRD STEP: construct the *reduced covariance matrix* as \"composition\" of allocated clusters and find optimal intercluster allocation by applying Markowitz method to it"
   ]
  },
  {
   "cell_type": "markdown",
   "metadata": {},
   "source": [
    "#### K-MEANS BASE CLUSTERING ALGORITHM\n",
    "**First chance**: use the k-means algorithm on observation (empirical) correlation matrix.  \n",
    "But this algorithm has two main limitations:  \n",
    "(a) It requires a number of clusters K, which is set by the user and not necessarily optimal a priori  \n",
    "(b) The initialization is random, so the effectiveness of the algorithm can also be random  \n",
    "**Alternative**: modify the k-means algorithm in two ways.  \n",
    "(1) Introduce an objective function to find the \"optimal K\", using the *silhouette score*, a measure comparing intracluster distance and intercluster distance: for a given element $i$ and a\n",
    "given clustering, the silhouette coefficient $S_{i}$ is defined as\n",
    "$$S_{i}=\\frac{b_{i}-a_{i}}{max\\left(a_{i},b_{i}\\right)}$$\n",
    "where  \n",
    "$a_{i}$ is the average distance between $i$ and all other elements in the same cluster, and  \n",
    "$b_{i}$ is the average distance between $i$ and all the elements in the nearest cluster of which $i$ is not a member  \n",
    "Note that:  \n",
    "$S_{i}=1$ means that element $i$ is clustered well  \n",
    "$S_{i}=-1$ means that $i$ was not well-clustered  \n",
    "For a given partition, the measure of clustering quality $q$ is defined as\n",
    "$$q=\\frac{E\\left[\\{S_{i}\\}_{i}\\right]}{\\sqrt{V\\left[\\{S_{i}\\}_{i}\\right]}}$$\n",
    "where $E$ and $V$ are the mean and the variance of the silhouette coefficients.  \n",
    "(2) Change k-mean's initialization as follow\n",
    "- Evaluate the observation matrix  \n",
    "- Perform a double for loop.  \n",
    "(a) In the first loop, try different $k=2,...,N$ on which to cluster via k-means for one given initialization, and evaluate the quality $q$ for each clustering   \n",
    "(b) The second loop repeats the first loop multiple times, thereby attempting different initializations  \n",
    "- Over these two loops, select the clustering with the highest q"
   ]
  },
  {
   "cell_type": "code",
   "execution_count": 4,
   "metadata": {},
   "outputs": [],
   "source": [
    "from utils import formTrueMatrix, simulate_covMu, denoiseCov_CRE, minVar_port, clusterKMeansBase, optPort_nco"
   ]
  },
  {
   "cell_type": "markdown",
   "metadata": {},
   "source": [
    "### EXPERIMENT\n",
    "All used functions are written in the script *utils.py*"
   ]
  },
  {
   "cell_type": "code",
   "execution_count": 5,
   "metadata": {},
   "outputs": [],
   "source": [
    "### PARAMETERS ###\n",
    "\n",
    "bln_minVarPort = True\n",
    "\n",
    "# Number of observations\n",
    "int_T = 1000\n",
    "\n",
    "# Number of simulations\n",
    "int_nTrials = 5\n",
    "\n",
    "# True matrix parameters\n",
    "int_nBlocks = 10\n",
    "int_bSize = 50\n",
    "flt_bCorr = 0.5\n",
    "\n",
    "# Parameters for denoising\n",
    "flt_bandwidth = 0.01\n",
    "bln_shrink = True"
   ]
  },
  {
   "cell_type": "markdown",
   "metadata": {},
   "source": [
    "So let's perform empirical (simulated) portfolios' allocations by minimizing their variance.  \n",
    "Let's de-noise covariance matrices in advance with shrinkage."
   ]
  },
  {
   "cell_type": "code",
   "execution_count": 6,
   "metadata": {},
   "outputs": [],
   "source": [
    "np.random.seed(0)\n",
    "# Create the true covariance matrix\n",
    "lst_mu_real, lst_cov_real = formTrueMatrix(int_nBlocks=int_nBlocks,\n",
    "                                           int_bSize=int_bSize,\n",
    "                                           flt_bCorr=flt_bCorr)"
   ]
  },
  {
   "cell_type": "code",
   "execution_count": 7,
   "metadata": {},
   "outputs": [
    {
     "name": "stdout",
     "output_type": "stream",
     "text": [
      "SIMULATED 0 of 5\n",
      "SIMULATED 1 of 5\n",
      "SIMULATED 2 of 5\n",
      "SIMULATED 3 of 5\n",
      "SIMULATED 4 of 5\n"
     ]
    }
   ],
   "source": [
    "### INITIALIZE THE WEIGHTS ###\n",
    "# Standard matrix of weights\n",
    "dtf_w = pd.DataFrame(columns=range(lst_cov_real.shape[0]),\n",
    "                     index=range(int_nTrials),\n",
    "                     dtype=float)\n",
    "\n",
    "# NCO matrix of weights\n",
    "dtf_w_nco = dtf_w.copy(deep=True)\n",
    "\n",
    "np.random.seed(0)\n",
    "# Perform int_nTrials allocation of the empirical covariance matrices\n",
    "for int_i in range(int_nTrials):\n",
    "    #if int_i % 10 == 0:\n",
    "    print(\"SIMULATED\",int_i,\"of\",int_nTrials)\n",
    "        \n",
    "    # Simulate empirical means and covariance matrix\n",
    "    lst_mu_emp, lst_cov_emp = simulate_covMu(lst_mu=lst_mu_real,\n",
    "                                             lst_cov=lst_cov_real,\n",
    "                                             int_T=int_T,\n",
    "                                             bln_shrink=bln_shrink)\n",
    "    \n",
    "    # Minimize variance?\n",
    "    if bln_minVarPort:\n",
    "        lst_mu_emp = None\n",
    "    \n",
    "    # Standard allocation\n",
    "    dtf_w.loc[int_i] = minVar_port(lst_cov=lst_cov_emp,\n",
    "                                   lst_mu=lst_mu_emp).flatten()\n",
    "    \n",
    "    # NCO allocation: CHECK THE CODE\n",
    "    dtf_w_nco.loc[int_i] = optPort_nco(lst_cov=lst_cov_emp,\n",
    "                                       lst_mu=lst_mu_emp,\n",
    "                                       int_max_numClusters=int(lst_cov_emp.shape[0]/2)).flatten()"
   ]
  },
  {
   "cell_type": "code",
   "execution_count": 8,
   "metadata": {},
   "outputs": [],
   "source": [
    "# Compute the optimal (theoretical) allocation\n",
    "lst_w_theo = minVar_port(lst_cov=lst_cov_real,\n",
    "                         lst_mu=None if bln_minVarPort else lst_mu_real)\n",
    "\n",
    "lst_w_theo = np.repeat(lst_w_theo.T,\n",
    "                       dtf_w.shape[0],\n",
    "                       axis=0)\n",
    "\n",
    "# Compare the empirical (NCO) and standard result VS theoretical one\n",
    "flt_rmse = np.sqrt(np.mean(np.square((dtf_w-lst_w_theo).values.flatten())))\n",
    "flt_rmse_nco = np.sqrt(np.mean(np.square((dtf_w_nco-lst_w_theo).values.flatten())))"
   ]
  },
  {
   "cell_type": "code",
   "execution_count": 9,
   "metadata": {},
   "outputs": [
    {
     "data": {
      "text/html": [
       "<div>\n",
       "<style scoped>\n",
       "    .dataframe tbody tr th:only-of-type {\n",
       "        vertical-align: middle;\n",
       "    }\n",
       "\n",
       "    .dataframe tbody tr th {\n",
       "        vertical-align: top;\n",
       "    }\n",
       "\n",
       "    .dataframe thead th {\n",
       "        text-align: right;\n",
       "    }\n",
       "</style>\n",
       "<table border=\"1\" class=\"dataframe\">\n",
       "  <thead>\n",
       "    <tr style=\"text-align: right;\">\n",
       "      <th></th>\n",
       "      <th>Markowitz</th>\n",
       "      <th>NCO</th>\n",
       "    </tr>\n",
       "  </thead>\n",
       "  <tbody>\n",
       "    <tr>\n",
       "      <th>RMSE</th>\n",
       "      <td>0.003593</td>\n",
       "      <td>0.001291</td>\n",
       "    </tr>\n",
       "  </tbody>\n",
       "</table>\n",
       "</div>"
      ],
      "text/plain": [
       "      Markowitz       NCO\n",
       "RMSE   0.003593  0.001291"
      ]
     },
     "execution_count": 9,
     "metadata": {},
     "output_type": "execute_result"
    }
   ],
   "source": [
    "dct_out = dict()\n",
    "dct_out[\"Markowitz\"] = flt_rmse\n",
    "dct_out[\"NCO\"] = flt_rmse_nco\n",
    "dtf_output = pd.DataFrame(data=dct_out,\n",
    "                          index=[\"RMSE\"])\n",
    "\n",
    "dtf_output"
   ]
  },
  {
   "cell_type": "code",
   "execution_count": 10,
   "metadata": {},
   "outputs": [
    {
     "name": "stdout",
     "output_type": "stream",
     "text": [
      "0.36 %\n"
     ]
    }
   ],
   "source": [
    "print(round(flt_rmse,4)*100,\"%\")"
   ]
  },
  {
   "cell_type": "code",
   "execution_count": 11,
   "metadata": {},
   "outputs": [
    {
     "name": "stdout",
     "output_type": "stream",
     "text": [
      "0.13 %\n"
     ]
    }
   ],
   "source": [
    "print(round(flt_rmse_nco,4)*100,\"%\")"
   ]
  },
  {
   "cell_type": "code",
   "execution_count": null,
   "metadata": {},
   "outputs": [],
   "source": []
  }
 ],
 "metadata": {
  "kernelspec": {
   "display_name": "Python 3",
   "language": "python",
   "name": "python3"
  },
  "language_info": {
   "codemirror_mode": {
    "name": "ipython",
    "version": 3
   },
   "file_extension": ".py",
   "mimetype": "text/x-python",
   "name": "python",
   "nbconvert_exporter": "python",
   "pygments_lexer": "ipython3",
   "version": "3.7.3"
  }
 },
 "nbformat": 4,
 "nbformat_minor": 2
}
